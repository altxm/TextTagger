{
 "cells": [
  {
   "cell_type": "markdown",
   "metadata": {},
   "source": [
    "# Get existing entries from DB"
   ]
  },
  {
   "cell_type": "code",
   "execution_count": 2,
   "metadata": {},
   "outputs": [
    {
     "name": "stdout",
     "output_type": "stream",
     "text": [
      "2022-07-07 16:39:44,137 INFO Found credentials in environment variables.\n",
      "849 entries\n",
      "Got 35 for category 'Special needs'\n",
      "Got 35 for category 'autistic'\n",
      "Got 35 for category 'autism'\n",
      "Got 35 for category 'bipolar'\n",
      "Got 35 for category 'High Functioning'\n",
      "Got 35 for category 'Low functioning'\n",
      "Got 35 for category 'ADHD'\n",
      "Got 35 for category 'deaf to'\n",
      "Got 35 for category 'aspergers'\n",
      "Got 35 for category 'blind eye'\n",
      "Got 35 for category 'upstanding'\n",
      "Got 35 for category 'blindly'\n",
      "Got 35 for category 'dumb'\n",
      "Got 15 for category 'attention deficit hyperactivity disorder'\n",
      "Got 35 for category 'psychotic'\n",
      "Got 35 for category 'High-functioning'\n",
      "Got 35 for category 'handicapped'\n",
      "Got 35 for category 'blind'\n",
      "Got 35 for category 'crippled'\n",
      "Got 23 for category 'attention deficit disorder'\n",
      "Got 35 for category 'OCD'\n",
      "Got 35 for category 'blinded by'\n",
      "Got 35 for category 'low-functioning'\n",
      "Got 35 for category 'Incapacitated'\n",
      "Got 1 for category 'blind-eye'\n",
      "Got 35 for category 'cripple'\n",
      "Got 5 for category 'ADD'\n"
     ]
    }
   ],
   "source": [
    "import boto3\n",
    "import dotenv\n",
    "\n",
    "dotenv.load_dotenv()\n",
    "\n",
    "client = boto3.client('dynamodb')\n",
    "\n",
    "\n",
    "tableName = 'theFieldInclusiveLanguageToolLabelling'\n",
    "\n",
    "response = client.scan(\n",
    "    TableName=tableName,\n",
    ")\n",
    "\n",
    "print(f\"{len(response['Items'])} entries\")\n",
    "\n",
    "existing = {}\n",
    "\n",
    "for item in response['Items']:\n",
    "    sentence = item['sentence']['S']\n",
    "    category = item['category']['S']\n",
    "    if not existing.get(category, False):\n",
    "        existing[category] = set()\n",
    "    existing[category].add(sentence)\n",
    "\n",
    "#print(existing)\n",
    "\n",
    "for category in existing.keys():\n",
    "    print(f\"Got {len(existing[category])} for category '{category}'\")"
   ]
  },
  {
   "cell_type": "markdown",
   "metadata": {},
   "source": [
    "# Scrape new entries"
   ]
  },
  {
   "cell_type": "code",
   "execution_count": 3,
   "metadata": {},
   "outputs": [
    {
     "name": "stdout",
     "output_type": "stream",
     "text": [
      "\n"
     ]
    },
    {
     "name": "stderr",
     "output_type": "stream",
     "text": [
      "[WDM] - ====== WebDriver manager ======\n"
     ]
    },
    {
     "name": "stdout",
     "output_type": "stream",
     "text": [
      "2022-07-07 16:39:54,041 INFO ====== WebDriver manager ======\n"
     ]
    },
    {
     "name": "stderr",
     "output_type": "stream",
     "text": [
      "[WDM] - Current firefox version is 102.0\n"
     ]
    },
    {
     "name": "stdout",
     "output_type": "stream",
     "text": [
      "2022-07-07 16:39:54,043 INFO Current firefox version is 102.0\n"
     ]
    },
    {
     "name": "stderr",
     "output_type": "stream",
     "text": [
      "[WDM] - Get LATEST geckodriver version for 102.0 firefox\n"
     ]
    },
    {
     "name": "stdout",
     "output_type": "stream",
     "text": [
      "2022-07-07 16:39:54,044 INFO Get LATEST geckodriver version for 102.0 firefox\n"
     ]
    },
    {
     "name": "stderr",
     "output_type": "stream",
     "text": [
      "[WDM] - Driver [C:\\Users\\reece\\.wdm\\drivers\\geckodriver\\win64\\v0.31.0\\geckodriver.exe] found in cache\n"
     ]
    },
    {
     "name": "stdout",
     "output_type": "stream",
     "text": [
      "2022-07-07 16:39:54,470 INFO Driver [C:\\Users\\reece\\.wdm\\drivers\\geckodriver\\win64\\v0.31.0\\geckodriver.exe] found in cache\n"
     ]
    },
    {
     "name": "stderr",
     "output_type": "stream",
     "text": [
      "C:\\Users\\reece\\AppData\\Local\\Temp\\ipykernel_1896\\3494531121.py:50: DeprecationWarning: executable_path has been deprecated, please pass in a Service object\n",
      "  driver = webdriver.Firefox(\n"
     ]
    },
    {
     "name": "stdout",
     "output_type": "stream",
     "text": [
      "starting with keyword 'deaf to', already have 35 sentences\n",
      "have 62 sentences for 'deaf to'\n",
      "starting with keyword 'High Functioning', already have 35 sentences\n",
      "have 63 sentences for 'High Functioning'\n",
      "starting with keyword 'High-functioning', already have 35 sentences\n",
      "have 52 sentences for 'High-functioning'\n",
      "starting with keyword 'Low functioning', already have 35 sentences\n",
      "have 60 sentences for 'Low functioning'\n",
      "starting with keyword 'low-functioning', already have 35 sentences\n",
      "have 37 sentences for 'low-functioning'\n",
      "starting with keyword 'handicapped', already have 35 sentences\n",
      "have 63 sentences for 'handicapped'\n",
      "starting with keyword 'bipolar', already have 35 sentences\n",
      "have 82 sentences for 'bipolar'\n",
      "starting with keyword 'blind-eye', already have 1 sentences\n",
      "have 1 sentences for 'blind-eye'\n",
      "starting with keyword 'blind eye', already have 35 sentences\n",
      "have 67 sentences for 'blind eye'\n",
      "starting with keyword 'blinded by', already have 35 sentences\n",
      "have 64 sentences for 'blinded by'\n",
      "starting with keyword 'upstanding', already have 35 sentences\n",
      "have 69 sentences for 'upstanding'\n",
      "starting with keyword 'Incapacitated', already have 35 sentences\n",
      "have 66 sentences for 'Incapacitated'\n",
      "starting with keyword 'Special needs', already have 35 sentences\n",
      "have 74 sentences for 'Special needs'\n",
      "starting with keyword 'aspergers', already have 35 sentences\n",
      "have 50 sentences for 'aspergers'\n",
      "starting with keyword 'blind', already have 35 sentences\n",
      "have 63 sentences for 'blind'\n",
      "starting with keyword 'dumb', already have 35 sentences\n",
      "have 73 sentences for 'dumb'\n",
      "starting with keyword 'psychotic', already have 35 sentences\n",
      "have 62 sentences for 'psychotic'\n",
      "starting with keyword 'ADD', already have 5 sentences\n",
      "have 5 sentences for 'ADD'\n",
      "starting with keyword 'attention deficit disorder', already have 23 sentences\n",
      "have 23 sentences for 'attention deficit disorder'\n",
      "starting with keyword 'ADHD', already have 35 sentences\n",
      "have 70 sentences for 'ADHD'\n",
      "starting with keyword 'attention deficit hyperactivity disorder', already have 15 sentences\n",
      "have 15 sentences for 'attention deficit hyperactivity disorder'\n",
      "starting with keyword 'OCD', already have 35 sentences\n",
      "have 75 sentences for 'OCD'\n",
      "starting with keyword 'crippled', already have 35 sentences\n",
      "have 64 sentences for 'crippled'\n",
      "starting with keyword 'cripple', already have 35 sentences\n",
      "have 62 sentences for 'cripple'\n",
      "starting with keyword 'blindly', already have 35 sentences\n",
      "have 60 sentences for 'blindly'\n",
      "starting with keyword 'autistic', already have 35 sentences\n",
      "have 84 sentences for 'autistic'\n",
      "starting with keyword 'autism', already have 35 sentences\n",
      "have 72 sentences for 'autism'\n",
      "starting with keyword 'disability', already have 0 sentences\n",
      "have 60 sentences for 'disability'\n",
      "starting with keyword 'disabled', already have 0 sentences\n",
      "have 72 sentences for 'disabled'\n",
      "starting with keyword 'paraplegic', already have 0 sentences\n",
      "have 63 sentences for 'paraplegic'\n",
      "starting with keyword 'paraplegia', already have 0 sentences\n",
      "have 68 sentences for 'paraplegia'\n",
      "starting with keyword 'quadriplegia', already have 0 sentences\n",
      "have 64 sentences for 'quadriplegia'\n",
      "starting with keyword 'quadriplegic', already have 0 sentences\n",
      "have 64 sentences for 'quadriplegic'\n",
      "starting with keyword 'differently abled', already have 0 sentences\n",
      "have 55 sentences for 'differently abled'\n",
      "starting with keyword 'differently-abled', already have 0 sentences\n",
      "have 23 sentences for 'differently-abled'\n",
      "starting with keyword 'blinded by', already have 64 sentences\n",
      "have 64 sentences for 'blinded by'\n",
      "starting with keyword 'neurotypical', already have 0 sentences\n",
      "have 73 sentences for 'neurotypical'\n",
      "starting with keyword 'bipolar disorder', already have 0 sentences\n",
      "have 57 sentences for 'bipolar disorder'\n",
      "starting with keyword 'deaf and dumb', already have 0 sentences\n",
      "have 62 sentences for 'deaf and dumb'\n"
     ]
    }
   ],
   "source": [
    "from selenium import webdriver\n",
    "from webdriver_manager.firefox import GeckoDriverManager\n",
    "import time\n",
    "from bs4 import BeautifulSoup\n",
    "import json\n",
    "import re\n",
    "\n",
    "keywords = \"\"\"deaf to\n",
    "High Functioning\n",
    "High-functioning\n",
    "Low functioning\n",
    "low-functioning\n",
    "handicapped\n",
    "bipolar\n",
    "blind-eye\n",
    "blind eye\n",
    "blinded by\n",
    "upstanding\n",
    "Incapacitated\n",
    "Special needs\n",
    "aspergers\n",
    "blind\n",
    "dumb\n",
    "psychotic\n",
    "ADD\n",
    "attention deficit disorder\n",
    "ADHD\n",
    "attention deficit hyperactivity disorder\n",
    "OCD\n",
    "crippled\n",
    "cripple\n",
    "blindly\n",
    "autistic\n",
    "autism\n",
    "disability\n",
    "disabled\n",
    "paraplegic\n",
    "paraplegia\n",
    "quadriplegia\n",
    "quadriplegic\n",
    "differently abled\n",
    "differently-abled\n",
    "blinded by\n",
    "neurotypical\n",
    "bipolar disorder\n",
    "deaf and dumb\"\"\"\n",
    "\n",
    "options = webdriver.FirefoxOptions()\n",
    "options.headless = True\n",
    "driver = webdriver.Firefox(\n",
    "    options=options,\n",
    "    executable_path=GeckoDriverManager().install())\n",
    "\n",
    "data = {}\n",
    "\n",
    "overall_count = 0\n",
    "\n",
    "for keyword in keywords.split('\\n'):\n",
    "    data[keyword] = []\n",
    "    driver.get('https://www.quora.com/search?q=\"' + keyword + '\"&type=answer')\n",
    "    time.sleep(2)\n",
    "\n",
    "    last_len = 0\n",
    "    no_new_posts_retrial_count = 0\n",
    "    sentences = existing.get(keyword, set())\n",
    "\n",
    "    print(f\"starting with keyword '{keyword}', already have {len(sentences)} sentences\")\n",
    "\n",
    "    while True:\n",
    "        driver.execute_script(\n",
    "            \"window.scrollTo(0, document.body.scrollHeight);\")\n",
    "\n",
    "        time.sleep(1)\n",
    "\n",
    "        page_source = driver.page_source\n",
    "\n",
    "        soup = BeautifulSoup(\n",
    "            page_source.encode(\"utf-8\"), \"html.parser\")\n",
    "\n",
    "        posts = [post for post in soup.findAll('span', {'class': 'qt_truncated_inline'}) if post.get_text(\n",
    "        ) != '' and not post.get_text().isspace()]\n",
    "\n",
    "        for post in posts:\n",
    "            for sentence in re.split('[.\\n!?]', post.get_text()):\n",
    "                if re.search((keyword if keyword.isupper() else f'{keyword}|{keyword.lower()}|{keyword.title()}'), sentence):\n",
    "                    sentences.add(sentence)\n",
    "        \n",
    "        if last_len != len(sentences):\n",
    "            last_len = len(sentences)\n",
    "            no_new_posts_retrial_count = 0\n",
    "        else:\n",
    "            no_new_posts_retrial_count += 1\n",
    "            if no_new_posts_retrial_count >= 10:\n",
    "                no_new_posts_retrial_count = 0\n",
    "                break\n",
    "        \n",
    "        if len(sentences) >= 60:\n",
    "            no_new_posts_retrial_count = 0\n",
    "            break\n",
    "\n",
    "    print(f\"have {len(sentences)} sentences for '{keyword}'\")\n",
    "    data[keyword] = list(sentences)[:60]\n",
    "    overall_count += 60\n",
    "\n",
    "with open('data.json', 'w') as file:\n",
    "    json.dump(obj=data, fp=file)\n"
   ]
  }
 ],
 "metadata": {
  "kernelspec": {
   "display_name": "Python 3.10.4 ('.venv': venv)",
   "language": "python",
   "name": "python3"
  },
  "language_info": {
   "codemirror_mode": {
    "name": "ipython",
    "version": 3
   },
   "file_extension": ".py",
   "mimetype": "text/x-python",
   "name": "python",
   "nbconvert_exporter": "python",
   "pygments_lexer": "ipython3",
   "version": "3.10.4"
  },
  "orig_nbformat": 4,
  "vscode": {
   "interpreter": {
    "hash": "4e5d4b891d580f671704063a4b76f9b885299fe2e507a47332d3adb4d816971b"
   }
  }
 },
 "nbformat": 4,
 "nbformat_minor": 2
}
